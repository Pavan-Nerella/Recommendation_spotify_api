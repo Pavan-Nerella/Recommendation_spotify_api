{
 "cells": [
  {
   "cell_type": "markdown",
   "metadata": {},
   "source": [
    "## API KEY"
   ]
  },
  {
   "cell_type": "code",
   "execution_count": 16,
   "metadata": {
    "execution": {
     "iopub.execute_input": "2024-11-21T12:26:48.813370Z",
     "iopub.status.busy": "2024-11-21T12:26:48.812967Z",
     "iopub.status.idle": "2024-11-21T12:26:49.014740Z",
     "shell.execute_reply": "2024-11-21T12:26:49.013646Z",
     "shell.execute_reply.started": "2024-11-21T12:26:48.813340Z"
    },
    "trusted": true
   },
   "outputs": [
    {
     "name": "stdout",
     "output_type": "stream",
     "text": [
      "Access token obtained successfully.\n"
     ]
    }
   ],
   "source": [
    "import requests\n",
    "import base64\n",
    "\n",
    "# Replace with your own Client ID and Client Secret\n",
    "CLIENT_ID = 'd0ef8242c2b849109ee01b9936c47538'\n",
    "CLIENT_SECRET = '3157df338a4542abac1d6458d32f5eba'\n",
    "\n",
    "# Base64 encode the client ID and client secret\n",
    "client_credentials = f\"{CLIENT_ID}:{CLIENT_SECRET}\"\n",
    "client_credentials_base64 = base64.b64encode(client_credentials.encode())\n",
    "\n",
    "# Request the access token\n",
    "token_url = 'https://accounts.spotify.com/api/token'\n",
    "headers = {\n",
    "    'Authorization': f'Basic {client_credentials_base64.decode()}'\n",
    "}\n",
    "data = {\n",
    "    'grant_type': 'client_credentials'\n",
    "}\n",
    "response = requests.post(token_url, data=data, headers=headers)\n",
    "\n",
    "if response.status_code == 200:\n",
    "    access_token = response.json()['access_token']\n",
    "    print(\"Access token obtained successfully.\")\n",
    "else:\n",
    "    print(\"Error obtaining access token.\")\n",
    "    exit()"
   ]
  },
  {
   "cell_type": "code",
   "execution_count": 5,
   "metadata": {
    "execution": {
     "iopub.execute_input": "2024-11-21T12:26:52.147356Z",
     "iopub.status.busy": "2024-11-21T12:26:52.146948Z",
     "iopub.status.idle": "2024-11-21T12:27:03.167575Z",
     "shell.execute_reply": "2024-11-21T12:27:03.166144Z",
     "shell.execute_reply.started": "2024-11-21T12:26:52.147327Z"
    },
    "trusted": true
   },
   "outputs": [
    {
     "name": "stdout",
     "output_type": "stream",
     "text": [
      "Requirement already satisfied: spotipy in c:\\users\\tiuyy\\appdata\\local\\programs\\python\\python38\\lib\\site-packages (2.24.0)\n",
      "Requirement already satisfied: redis>=3.5.3 in c:\\users\\tiuyy\\appdata\\local\\programs\\python\\python38\\lib\\site-packages (from spotipy) (5.2.0)\n",
      "Requirement already satisfied: requests>=2.25.0 in c:\\users\\tiuyy\\appdata\\local\\programs\\python\\python38\\lib\\site-packages (from spotipy) (2.32.3)\n",
      "Requirement already satisfied: urllib3>=1.26.0 in c:\\users\\tiuyy\\appdata\\local\\programs\\python\\python38\\lib\\site-packages (from spotipy) (2.2.3)\n",
      "Requirement already satisfied: async-timeout>=4.0.3 in c:\\users\\tiuyy\\appdata\\local\\programs\\python\\python38\\lib\\site-packages (from redis>=3.5.3->spotipy) (5.0.1)\n",
      "Requirement already satisfied: charset-normalizer<4,>=2 in c:\\users\\tiuyy\\appdata\\local\\programs\\python\\python38\\lib\\site-packages (from requests>=2.25.0->spotipy) (3.4.0)\n",
      "Requirement already satisfied: idna<4,>=2.5 in c:\\users\\tiuyy\\appdata\\local\\programs\\python\\python38\\lib\\site-packages (from requests>=2.25.0->spotipy) (3.10)\n",
      "Requirement already satisfied: certifi>=2017.4.17 in c:\\users\\tiuyy\\appdata\\local\\programs\\python\\python38\\lib\\site-packages (from requests>=2.25.0->spotipy) (2024.8.30)\n",
      "Note: you may need to restart the kernel to use updated packages.\n"
     ]
    }
   ],
   "source": [
    "pip install spotipy"
   ]
  },
  {
   "cell_type": "markdown",
   "metadata": {},
   "source": [
    "## Creating DataFrame"
   ]
  },
  {
   "cell_type": "code",
   "execution_count": 17,
   "metadata": {
    "execution": {
     "iopub.execute_input": "2024-11-21T12:27:03.188704Z",
     "iopub.status.busy": "2024-11-21T12:27:03.188337Z",
     "iopub.status.idle": "2024-11-21T12:27:03.208684Z",
     "shell.execute_reply": "2024-11-21T12:27:03.207510Z",
     "shell.execute_reply.started": "2024-11-21T12:27:03.188676Z"
    },
    "trusted": true
   },
   "outputs": [],
   "source": [
    "import pandas as pd\n",
    "import spotipy\n",
    "from spotipy.oauth2 import SpotifyOAuth\n",
    "\n",
    "def get_trending_playlist_data(playlist_id, access_token):\n",
    "    # Set up Spotipy with the access token\n",
    "    sp = spotipy.Spotify(auth=access_token)\n",
    "\n",
    "    # Get the tracks from the playlist\n",
    "    playlist_tracks = sp.playlist_tracks(playlist_id, fields='items(track(id, name, artists, album(id, name)))')\n",
    "\n",
    "    # Extract relevant information and store in a list of dictionaries\n",
    "    music_data = []\n",
    "    for track_info in playlist_tracks['items']:\n",
    "        track = track_info['track']\n",
    "        track_name = track['name']\n",
    "        artists = ', '.join([artist['name'] for artist in track['artists']])\n",
    "        album_name = track['album']['name']\n",
    "        album_id = track['album']['id']\n",
    "        track_id = track['id']\n",
    "\n",
    "        # Get audio features for the track\n",
    "        audio_features = sp.audio_features(track_id)[0] if track_id != 'Not available' else None\n",
    "\n",
    "        # Get release date of the album\n",
    "        try:\n",
    "            album_info = sp.album(album_id) if album_id != 'Not available' else None\n",
    "            release_date = album_info['release_date'] if album_info else None\n",
    "        except:\n",
    "            release_date = None\n",
    "\n",
    "        # Get popularity of the track\n",
    "        try:\n",
    "            track_info = sp.track(track_id) if track_id != 'Not available' else None\n",
    "            popularity = track_info['popularity'] if track_info else None\n",
    "        except:\n",
    "            popularity = None\n",
    "\n",
    "        # Add additional track information to the track data\n",
    "        track_data = {\n",
    "            'Track Name': track_name,\n",
    "            'Artists': artists,\n",
    "            'Album Name': album_name,\n",
    "            'Album ID': album_id,\n",
    "            'Track ID': track_id,\n",
    "            'Popularity': popularity,\n",
    "            'Release Date': release_date,\n",
    "            'Duration (ms)': audio_features['duration_ms'] if audio_features else None,\n",
    "            'Explicit': track_info.get('explicit', None),\n",
    "            'External URLs': track_info.get('external_urls', {}).get('spotify', None),\n",
    "            'Danceability': audio_features['danceability'] if audio_features else None,\n",
    "            'Energy': audio_features['energy'] if audio_features else None,\n",
    "            'Key': audio_features['key'] if audio_features else None,\n",
    "            'Loudness': audio_features['loudness'] if audio_features else None,\n",
    "            'Mode': audio_features['mode'] if audio_features else None,\n",
    "            'Speechiness': audio_features['speechiness'] if audio_features else None,\n",
    "            'Acousticness': audio_features['acousticness'] if audio_features else None,\n",
    "            'Instrumentalness': audio_features['instrumentalness'] if audio_features else None,\n",
    "            'Liveness': audio_features['liveness'] if audio_features else None,\n",
    "            'Valence': audio_features['valence'] if audio_features else None,\n",
    "            'Tempo': audio_features['tempo'] if audio_features else None,\n",
    "            # Add more attributes as needed\n",
    "        }\n",
    "\n",
    "        music_data.append(track_data)\n",
    "\n",
    "    # Create a pandas DataFrame from the list of dictionaries\n",
    "    df = pd.DataFrame(music_data)\n",
    "\n",
    "    return df"
   ]
  },
  {
   "cell_type": "code",
   "execution_count": 12,
   "metadata": {},
   "outputs": [
    {
     "ename": "NameError",
     "evalue": "name 'SpotifyException' is not defined",
     "output_type": "error",
     "traceback": [
      "\u001b[1;31m---------------------------------------------------------------------------\u001b[0m",
      "\u001b[1;31mNameError\u001b[0m                                 Traceback (most recent call last)",
      "Cell \u001b[1;32mIn[12], line 2\u001b[0m\n\u001b[0;32m      1\u001b[0m \u001b[38;5;28;01mtry\u001b[39;00m:\n\u001b[1;32m----> 2\u001b[0m     audio_features \u001b[38;5;241m=\u001b[39m sp\u001b[38;5;241m.\u001b[39maudio_features(track_id)[\u001b[38;5;241m0\u001b[39m] \u001b[38;5;28;01mif\u001b[39;00m \u001b[43mtrack_id\u001b[49m \u001b[38;5;241m!=\u001b[39m \u001b[38;5;124m'\u001b[39m\u001b[38;5;124mNot available\u001b[39m\u001b[38;5;124m'\u001b[39m \u001b[38;5;28;01melse\u001b[39;00m \u001b[38;5;28;01mNone\u001b[39;00m\n\u001b[0;32m      3\u001b[0m \u001b[38;5;28;01mexcept\u001b[39;00m SpotifyException \u001b[38;5;28;01mas\u001b[39;00m e:\n",
      "\u001b[1;31mNameError\u001b[0m: name 'track_id' is not defined",
      "\nDuring handling of the above exception, another exception occurred:\n",
      "\u001b[1;31mNameError\u001b[0m                                 Traceback (most recent call last)",
      "Cell \u001b[1;32mIn[12], line 3\u001b[0m\n\u001b[0;32m      1\u001b[0m \u001b[38;5;28;01mtry\u001b[39;00m:\n\u001b[0;32m      2\u001b[0m     audio_features \u001b[38;5;241m=\u001b[39m sp\u001b[38;5;241m.\u001b[39maudio_features(track_id)[\u001b[38;5;241m0\u001b[39m] \u001b[38;5;28;01mif\u001b[39;00m track_id \u001b[38;5;241m!=\u001b[39m \u001b[38;5;124m'\u001b[39m\u001b[38;5;124mNot available\u001b[39m\u001b[38;5;124m'\u001b[39m \u001b[38;5;28;01melse\u001b[39;00m \u001b[38;5;28;01mNone\u001b[39;00m\n\u001b[1;32m----> 3\u001b[0m \u001b[38;5;28;01mexcept\u001b[39;00m \u001b[43mSpotifyException\u001b[49m \u001b[38;5;28;01mas\u001b[39;00m e:\n\u001b[0;32m      4\u001b[0m     \u001b[38;5;28mprint\u001b[39m(\u001b[38;5;124mf\u001b[39m\u001b[38;5;124m\"\u001b[39m\u001b[38;5;124mSpotify API error: \u001b[39m\u001b[38;5;132;01m{\u001b[39;00me\u001b[38;5;132;01m}\u001b[39;00m\u001b[38;5;124m\"\u001b[39m)\n\u001b[0;32m      5\u001b[0m     audio_features \u001b[38;5;241m=\u001b[39m \u001b[38;5;28;01mNone\u001b[39;00m\n",
      "\u001b[1;31mNameError\u001b[0m: name 'SpotifyException' is not defined"
     ]
    }
   ],
   "source": [
    "try:\n",
    "    audio_features = sp.audio_features(track_id)[0] if track_id != 'Not available' else None\n",
    "except SpotifyException as e:\n",
    "    print(f\"Spotify API error: {e}\")\n",
    "    audio_features = None\n"
   ]
  },
  {
   "cell_type": "markdown",
   "metadata": {},
   "source": [
    "## Choosing Playlist"
   ]
  },
  {
   "cell_type": "code",
   "execution_count": 18,
   "metadata": {
    "execution": {
     "iopub.execute_input": "2024-11-21T12:27:03.211837Z",
     "iopub.status.busy": "2024-11-21T12:27:03.211449Z",
     "iopub.status.idle": "2024-11-21T12:27:59.510054Z",
     "shell.execute_reply": "2024-11-21T12:27:59.508847Z",
     "shell.execute_reply.started": "2024-11-21T12:27:03.211808Z"
    },
    "trusted": true
   },
   "outputs": [
    {
     "name": "stderr",
     "output_type": "stream",
     "text": [
      "HTTP Error for GET to https://api.spotify.com/v1/audio-features/?ids=0VjIjW4GlUZAMYd2vXMi3b with Params: {} returned 403 due to None\n"
     ]
    },
    {
     "ename": "SpotifyException",
     "evalue": "http status: 403, code:-1 - https://api.spotify.com/v1/audio-features/?ids=0VjIjW4GlUZAMYd2vXMi3b:\n None, reason: None",
     "output_type": "error",
     "traceback": [
      "\u001b[1;31m---------------------------------------------------------------------------\u001b[0m",
      "\u001b[1;31mHTTPError\u001b[0m                                 Traceback (most recent call last)",
      "File \u001b[1;32mc:\\Users\\tiuyy\\AppData\\Local\\Programs\\Python\\Python38\\lib\\site-packages\\spotipy\\client.py:275\u001b[0m, in \u001b[0;36mSpotify._internal_call\u001b[1;34m(self, method, url, payload, params)\u001b[0m\n\u001b[0;32m    270\u001b[0m response \u001b[38;5;241m=\u001b[39m \u001b[38;5;28mself\u001b[39m\u001b[38;5;241m.\u001b[39m_session\u001b[38;5;241m.\u001b[39mrequest(\n\u001b[0;32m    271\u001b[0m     method, url, headers\u001b[38;5;241m=\u001b[39mheaders, proxies\u001b[38;5;241m=\u001b[39m\u001b[38;5;28mself\u001b[39m\u001b[38;5;241m.\u001b[39mproxies,\n\u001b[0;32m    272\u001b[0m     timeout\u001b[38;5;241m=\u001b[39m\u001b[38;5;28mself\u001b[39m\u001b[38;5;241m.\u001b[39mrequests_timeout, \u001b[38;5;241m*\u001b[39m\u001b[38;5;241m*\u001b[39margs\n\u001b[0;32m    273\u001b[0m )\n\u001b[1;32m--> 275\u001b[0m \u001b[43mresponse\u001b[49m\u001b[38;5;241;43m.\u001b[39;49m\u001b[43mraise_for_status\u001b[49m\u001b[43m(\u001b[49m\u001b[43m)\u001b[49m\n\u001b[0;32m    276\u001b[0m results \u001b[38;5;241m=\u001b[39m response\u001b[38;5;241m.\u001b[39mjson()\n",
      "File \u001b[1;32mc:\\Users\\tiuyy\\AppData\\Local\\Programs\\Python\\Python38\\lib\\site-packages\\requests\\models.py:1024\u001b[0m, in \u001b[0;36mResponse.raise_for_status\u001b[1;34m(self)\u001b[0m\n\u001b[0;32m   1023\u001b[0m \u001b[38;5;28;01mif\u001b[39;00m http_error_msg:\n\u001b[1;32m-> 1024\u001b[0m     \u001b[38;5;28;01mraise\u001b[39;00m HTTPError(http_error_msg, response\u001b[38;5;241m=\u001b[39m\u001b[38;5;28mself\u001b[39m)\n",
      "\u001b[1;31mHTTPError\u001b[0m: 403 Client Error: Forbidden for url: https://api.spotify.com/v1/audio-features/?ids=0VjIjW4GlUZAMYd2vXMi3b",
      "\nDuring handling of the above exception, another exception occurred:\n",
      "\u001b[1;31mSpotifyException\u001b[0m                          Traceback (most recent call last)",
      "Cell \u001b[1;32mIn[18], line 4\u001b[0m\n\u001b[0;32m      1\u001b[0m playlist_id \u001b[38;5;241m=\u001b[39m \u001b[38;5;124m'\u001b[39m\u001b[38;5;124m5ABHKGoOzxkaa28ttQV9sE\u001b[39m\u001b[38;5;124m'\u001b[39m \u001b[38;5;66;03m#That's the top 100 popular songs on Spotify\u001b[39;00m\n\u001b[0;32m      3\u001b[0m \u001b[38;5;66;03m# Call the function to get the music data from the playlist and store it in a DataFrame\u001b[39;00m\n\u001b[1;32m----> 4\u001b[0m music_df \u001b[38;5;241m=\u001b[39m \u001b[43mget_trending_playlist_data\u001b[49m\u001b[43m(\u001b[49m\u001b[43mplaylist_id\u001b[49m\u001b[43m,\u001b[49m\u001b[43m \u001b[49m\u001b[43maccess_token\u001b[49m\u001b[43m)\u001b[49m\n\u001b[0;32m      6\u001b[0m \u001b[38;5;66;03m# Display the DataFrame\u001b[39;00m\n\u001b[0;32m      7\u001b[0m \u001b[38;5;28mprint\u001b[39m(music_df)\n",
      "Cell \u001b[1;32mIn[17], line 23\u001b[0m, in \u001b[0;36mget_trending_playlist_data\u001b[1;34m(playlist_id, access_token)\u001b[0m\n\u001b[0;32m     20\u001b[0m track_id \u001b[38;5;241m=\u001b[39m track[\u001b[38;5;124m'\u001b[39m\u001b[38;5;124mid\u001b[39m\u001b[38;5;124m'\u001b[39m]\n\u001b[0;32m     22\u001b[0m \u001b[38;5;66;03m# Get audio features for the track\u001b[39;00m\n\u001b[1;32m---> 23\u001b[0m audio_features \u001b[38;5;241m=\u001b[39m \u001b[43msp\u001b[49m\u001b[38;5;241;43m.\u001b[39;49m\u001b[43maudio_features\u001b[49m\u001b[43m(\u001b[49m\u001b[43mtrack_id\u001b[49m\u001b[43m)\u001b[49m[\u001b[38;5;241m0\u001b[39m] \u001b[38;5;28;01mif\u001b[39;00m track_id \u001b[38;5;241m!=\u001b[39m \u001b[38;5;124m'\u001b[39m\u001b[38;5;124mNot available\u001b[39m\u001b[38;5;124m'\u001b[39m \u001b[38;5;28;01melse\u001b[39;00m \u001b[38;5;28;01mNone\u001b[39;00m\n\u001b[0;32m     25\u001b[0m \u001b[38;5;66;03m# Get release date of the album\u001b[39;00m\n\u001b[0;32m     26\u001b[0m \u001b[38;5;28;01mtry\u001b[39;00m:\n",
      "File \u001b[1;32mc:\\Users\\tiuyy\\AppData\\Local\\Programs\\Python\\Python38\\lib\\site-packages\\spotipy\\client.py:1750\u001b[0m, in \u001b[0;36mSpotify.audio_features\u001b[1;34m(self, tracks)\u001b[0m\n\u001b[0;32m   1748\u001b[0m \u001b[38;5;28;01mif\u001b[39;00m \u001b[38;5;28misinstance\u001b[39m(tracks, \u001b[38;5;28mstr\u001b[39m):\n\u001b[0;32m   1749\u001b[0m     trackid \u001b[38;5;241m=\u001b[39m \u001b[38;5;28mself\u001b[39m\u001b[38;5;241m.\u001b[39m_get_id(\u001b[38;5;124m\"\u001b[39m\u001b[38;5;124mtrack\u001b[39m\u001b[38;5;124m\"\u001b[39m, tracks)\n\u001b[1;32m-> 1750\u001b[0m     results \u001b[38;5;241m=\u001b[39m \u001b[38;5;28;43mself\u001b[39;49m\u001b[38;5;241;43m.\u001b[39;49m\u001b[43m_get\u001b[49m\u001b[43m(\u001b[49m\u001b[38;5;124;43m\"\u001b[39;49m\u001b[38;5;124;43maudio-features/?ids=\u001b[39;49m\u001b[38;5;124;43m\"\u001b[39;49m\u001b[43m \u001b[49m\u001b[38;5;241;43m+\u001b[39;49m\u001b[43m \u001b[49m\u001b[43mtrackid\u001b[49m\u001b[43m)\u001b[49m\n\u001b[0;32m   1751\u001b[0m \u001b[38;5;28;01melse\u001b[39;00m:\n\u001b[0;32m   1752\u001b[0m     tlist \u001b[38;5;241m=\u001b[39m [\u001b[38;5;28mself\u001b[39m\u001b[38;5;241m.\u001b[39m_get_id(\u001b[38;5;124m\"\u001b[39m\u001b[38;5;124mtrack\u001b[39m\u001b[38;5;124m\"\u001b[39m, t) \u001b[38;5;28;01mfor\u001b[39;00m t \u001b[38;5;129;01min\u001b[39;00m tracks]\n",
      "File \u001b[1;32mc:\\Users\\tiuyy\\AppData\\Local\\Programs\\Python\\Python38\\lib\\site-packages\\spotipy\\client.py:327\u001b[0m, in \u001b[0;36mSpotify._get\u001b[1;34m(self, url, args, payload, **kwargs)\u001b[0m\n\u001b[0;32m    324\u001b[0m \u001b[38;5;28;01mif\u001b[39;00m args:\n\u001b[0;32m    325\u001b[0m     kwargs\u001b[38;5;241m.\u001b[39mupdate(args)\n\u001b[1;32m--> 327\u001b[0m \u001b[38;5;28;01mreturn\u001b[39;00m \u001b[38;5;28;43mself\u001b[39;49m\u001b[38;5;241;43m.\u001b[39;49m\u001b[43m_internal_call\u001b[49m\u001b[43m(\u001b[49m\u001b[38;5;124;43m\"\u001b[39;49m\u001b[38;5;124;43mGET\u001b[39;49m\u001b[38;5;124;43m\"\u001b[39;49m\u001b[43m,\u001b[49m\u001b[43m \u001b[49m\u001b[43murl\u001b[49m\u001b[43m,\u001b[49m\u001b[43m \u001b[49m\u001b[43mpayload\u001b[49m\u001b[43m,\u001b[49m\u001b[43m \u001b[49m\u001b[43mkwargs\u001b[49m\u001b[43m)\u001b[49m\n",
      "File \u001b[1;32mc:\\Users\\tiuyy\\AppData\\Local\\Programs\\Python\\Python38\\lib\\site-packages\\spotipy\\client.py:297\u001b[0m, in \u001b[0;36mSpotify._internal_call\u001b[1;34m(self, method, url, payload, params)\u001b[0m\n\u001b[0;32m    290\u001b[0m         reason \u001b[38;5;241m=\u001b[39m \u001b[38;5;28;01mNone\u001b[39;00m\n\u001b[0;32m    292\u001b[0m     logger\u001b[38;5;241m.\u001b[39merror(\n\u001b[0;32m    293\u001b[0m         \u001b[38;5;124m'\u001b[39m\u001b[38;5;124mHTTP Error for \u001b[39m\u001b[38;5;132;01m%s\u001b[39;00m\u001b[38;5;124m to \u001b[39m\u001b[38;5;132;01m%s\u001b[39;00m\u001b[38;5;124m with Params: \u001b[39m\u001b[38;5;132;01m%s\u001b[39;00m\u001b[38;5;124m returned \u001b[39m\u001b[38;5;132;01m%s\u001b[39;00m\u001b[38;5;124m due to \u001b[39m\u001b[38;5;132;01m%s\u001b[39;00m\u001b[38;5;124m'\u001b[39m,\n\u001b[0;32m    294\u001b[0m         method, url, args\u001b[38;5;241m.\u001b[39mget(\u001b[38;5;124m\"\u001b[39m\u001b[38;5;124mparams\u001b[39m\u001b[38;5;124m\"\u001b[39m), response\u001b[38;5;241m.\u001b[39mstatus_code, msg\n\u001b[0;32m    295\u001b[0m     )\n\u001b[1;32m--> 297\u001b[0m     \u001b[38;5;28;01mraise\u001b[39;00m SpotifyException(\n\u001b[0;32m    298\u001b[0m         response\u001b[38;5;241m.\u001b[39mstatus_code,\n\u001b[0;32m    299\u001b[0m         \u001b[38;5;241m-\u001b[39m\u001b[38;5;241m1\u001b[39m,\n\u001b[0;32m    300\u001b[0m         \u001b[38;5;124mf\u001b[39m\u001b[38;5;124m\"\u001b[39m\u001b[38;5;132;01m{\u001b[39;00mresponse\u001b[38;5;241m.\u001b[39murl\u001b[38;5;132;01m}\u001b[39;00m\u001b[38;5;124m:\u001b[39m\u001b[38;5;130;01m\\n\u001b[39;00m\u001b[38;5;124m \u001b[39m\u001b[38;5;132;01m{\u001b[39;00mmsg\u001b[38;5;132;01m}\u001b[39;00m\u001b[38;5;124m\"\u001b[39m,\n\u001b[0;32m    301\u001b[0m         reason\u001b[38;5;241m=\u001b[39mreason,\n\u001b[0;32m    302\u001b[0m         headers\u001b[38;5;241m=\u001b[39mresponse\u001b[38;5;241m.\u001b[39mheaders,\n\u001b[0;32m    303\u001b[0m     )\n\u001b[0;32m    304\u001b[0m \u001b[38;5;28;01mexcept\u001b[39;00m requests\u001b[38;5;241m.\u001b[39mexceptions\u001b[38;5;241m.\u001b[39mRetryError \u001b[38;5;28;01mas\u001b[39;00m retry_error:\n\u001b[0;32m    305\u001b[0m     request \u001b[38;5;241m=\u001b[39m retry_error\u001b[38;5;241m.\u001b[39mrequest\n",
      "\u001b[1;31mSpotifyException\u001b[0m: http status: 403, code:-1 - https://api.spotify.com/v1/audio-features/?ids=0VjIjW4GlUZAMYd2vXMi3b:\n None, reason: None"
     ]
    }
   ],
   "source": [
    "playlist_id = '5ABHKGoOzxkaa28ttQV9sE' #That's the top 100 popular songs on Spotify\n",
    "\n",
    "# Call the function to get the music data from the playlist and store it in a DataFrame\n",
    "music_df = get_trending_playlist_data(playlist_id, access_token)\n",
    "\n",
    "# Display the DataFrame\n",
    "print(music_df)"
   ]
  },
  {
   "cell_type": "code",
   "execution_count": 57,
   "metadata": {
    "execution": {
     "iopub.execute_input": "2024-11-21T12:28:30.070223Z",
     "iopub.status.busy": "2024-11-21T12:28:30.069701Z",
     "iopub.status.idle": "2024-11-21T12:28:30.079488Z",
     "shell.execute_reply": "2024-11-21T12:28:30.078150Z",
     "shell.execute_reply.started": "2024-11-21T12:28:30.070181Z"
    },
    "trusted": true
   },
   "outputs": [
    {
     "name": "stdout",
     "output_type": "stream",
     "text": [
      "Track Name          0\n",
      "Artists             0\n",
      "Album Name          0\n",
      "Album ID            0\n",
      "Track ID            0\n",
      "Popularity          0\n",
      "Release Date        0\n",
      "Duration (ms)       0\n",
      "Explicit            0\n",
      "External URLs       0\n",
      "Danceability        0\n",
      "Energy              0\n",
      "Key                 0\n",
      "Loudness            0\n",
      "Mode                0\n",
      "Speechiness         0\n",
      "Acousticness        0\n",
      "Instrumentalness    0\n",
      "Liveness            0\n",
      "Valence             0\n",
      "Tempo               0\n",
      "dtype: int64\n"
     ]
    }
   ],
   "source": [
    "print(music_df.isnull().sum())"
   ]
  },
  {
   "cell_type": "markdown",
   "metadata": {},
   "source": [
    "## Tunning Features for Recommendations"
   ]
  },
  {
   "cell_type": "code",
   "execution_count": 58,
   "metadata": {
    "execution": {
     "iopub.execute_input": "2024-11-21T12:28:33.244548Z",
     "iopub.status.busy": "2024-11-21T12:28:33.244128Z",
     "iopub.status.idle": "2024-11-21T12:28:33.250563Z",
     "shell.execute_reply": "2024-11-21T12:28:33.249022Z",
     "shell.execute_reply.started": "2024-11-21T12:28:33.244520Z"
    },
    "trusted": true
   },
   "outputs": [],
   "source": [
    "import pandas as pd\n",
    "import numpy as np\n",
    "from sklearn.model_selection import train_test_split\n",
    "from sklearn.preprocessing import MinMaxScaler\n",
    "from datetime import datetime\n",
    "from sklearn.metrics.pairwise import cosine_similarity\n",
    "\n",
    "data = music_df"
   ]
  },
  {
   "cell_type": "code",
   "execution_count": 59,
   "metadata": {
    "execution": {
     "iopub.execute_input": "2024-11-21T12:28:35.602930Z",
     "iopub.status.busy": "2024-11-21T12:28:35.602545Z",
     "iopub.status.idle": "2024-11-21T12:28:35.608298Z",
     "shell.execute_reply": "2024-11-21T12:28:35.607251Z",
     "shell.execute_reply.started": "2024-11-21T12:28:35.602902Z"
    },
    "trusted": true
   },
   "outputs": [],
   "source": [
    "# Function to calculate weighted popularity scores based on release date\n",
    "def calculate_weighted_popularity(release_date):\n",
    "    # Convert the release date to datetime object\n",
    "    release_date = datetime.strptime(release_date, '%Y-%m-%d')\n",
    "\n",
    "    # Calculate the time span between release date and today's date\n",
    "    time_span = datetime.now() - release_date\n",
    "\n",
    "    # Calculate the weighted popularity score based on time span (e.g., more recent releases have higher weight)\n",
    "    weight = 1 / (time_span.days + 1)\n",
    "    return weight"
   ]
  },
  {
   "cell_type": "code",
   "execution_count": 60,
   "metadata": {
    "execution": {
     "iopub.execute_input": "2024-11-21T12:28:42.102377Z",
     "iopub.status.busy": "2024-11-21T12:28:42.102003Z",
     "iopub.status.idle": "2024-11-21T12:28:42.110744Z",
     "shell.execute_reply": "2024-11-21T12:28:42.109702Z",
     "shell.execute_reply.started": "2024-11-21T12:28:42.102352Z"
    },
    "trusted": true
   },
   "outputs": [],
   "source": [
    "from sklearn.preprocessing import MinMaxScaler\n",
    "\n",
    "# Normalize the music features using Min-Max scaling\n",
    "scaler = MinMaxScaler()\n",
    "music_features = music_df[['Danceability', 'Energy', 'Key', \n",
    "                           'Loudness', 'Mode', 'Speechiness', 'Acousticness',\n",
    "                           'Instrumentalness', 'Liveness', 'Valence', 'Tempo']].values\n",
    "music_features_scaled = scaler.fit_transform(music_features)"
   ]
  },
  {
   "cell_type": "code",
   "execution_count": 61,
   "metadata": {
    "execution": {
     "iopub.execute_input": "2024-11-21T12:28:44.680928Z",
     "iopub.status.busy": "2024-11-21T12:28:44.680559Z",
     "iopub.status.idle": "2024-11-21T12:28:44.689343Z",
     "shell.execute_reply": "2024-11-21T12:28:44.687636Z",
     "shell.execute_reply.started": "2024-11-21T12:28:44.680903Z"
    },
    "trusted": true
   },
   "outputs": [],
   "source": [
    "# a function to get content-based recommendations based on music features\n",
    "def content_based_recommendations(input_song_name, num_recommendations=5):\n",
    "    if input_song_name not in music_df['Track Name'].values:\n",
    "        print(f\"'{input_song_name}' not found in the dataset. Please enter a valid song name.\")\n",
    "        return\n",
    "\n",
    "    # Get the index of the input song in the music DataFrame\n",
    "    input_song_index = music_df[music_df['Track Name'] == input_song_name].index[0]\n",
    "\n",
    "    # Calculate the similarity scores based on music features (cosine similarity)\n",
    "    similarity_scores = cosine_similarity([music_features_scaled[input_song_index]], music_features_scaled)\n",
    "\n",
    "    # Get the indices of the most similar songs\n",
    "    similar_song_indices = similarity_scores.argsort()[0][::-1][1:num_recommendations + 1]\n",
    "\n",
    "    # Get the names of the most similar songs based on content-based filtering\n",
    "    content_based_recommendations = music_df.iloc[similar_song_indices][['Track Name', 'Artists', 'Album Name', 'Release Date', 'Popularity']]\n",
    "\n",
    "    return content_based_recommendations"
   ]
  },
  {
   "cell_type": "code",
   "execution_count": null,
   "metadata": {
    "execution": {
     "iopub.execute_input": "2024-11-21T12:28:46.934000Z",
     "iopub.status.busy": "2024-11-21T12:28:46.933619Z",
     "iopub.status.idle": "2024-11-21T12:28:46.943599Z",
     "shell.execute_reply": "2024-11-21T12:28:46.942400Z",
     "shell.execute_reply.started": "2024-11-21T12:28:46.933972Z"
    },
    "trusted": true
   },
   "outputs": [],
   "source": [
    "def hybrid_recommendations(input_song_name, num_recommendations=5, alpha=0.5):\n",
    "    if input_song_name not in music_df['Track Name'].values:\n",
    "        print(f\"'{input_song_name}' not found in the dataset. Please enter a valid song name.\")\n",
    "        return\n",
    "\n",
    "    # Get content-based recommendations\n",
    "    content_based_rec = content_based_recommendations(input_song_name, num_recommendations)\n",
    "\n",
    "    # Get the popularity score of the input song\n",
    "    popularity_score = music_df.loc[music_df['Track Name'] == input_song_name, 'Popularity'].values[0]\n",
    "\n",
    "    # Calculate the weighted popularity score\n",
    "    weighted_popularity_score = popularity_score * calculate_weighted_popularity(music_df.loc[music_df['Track Name'] == input_song_name, 'Release Date'].values[0])\n",
    "\n",
    "    # Create a DataFrame for the input song\n",
    "    input_song_data = {\n",
    "        'Track Name': [input_song_name],\n",
    "        'Artists': [music_df.loc[music_df['Track Name'] == input_song_name, 'Artists'].values[0]],\n",
    "        'Album Name': [music_df.loc[music_df['Track Name'] == input_song_name, 'Album Name'].values[0]],\n",
    "        'Release Date': [music_df.loc[music_df['Track Name'] == input_song_name, 'Release Date'].values[0]],\n",
    "        'Popularity': [weighted_popularity_score]\n",
    "    }\n",
    "    input_song_df = pd.DataFrame(input_song_data)\n",
    "\n",
    "    # Concatenate the input song DataFrame with content-based recommendations\n",
    "    hybrid_recommendations = pd.concat([content_based_rec, input_song_df], ignore_index=True)\n",
    "\n",
    "    # Sort the hybrid recommendations based on weighted popularity score\n",
    "    hybrid_recommendations = hybrid_recommendations.sort_values(by='Popularity', ascending=False)\n",
    "\n",
    "    # Remove the input song from the recommendations\n",
    "    hybrid_recommendations = hybrid_recommendations[hybrid_recommendations['Track Name'] != input_song_name]\n",
    "\n",
    "    return hybrid_recommendations"
   ]
  },
  {
   "cell_type": "markdown",
   "metadata": {},
   "source": [
    "## Recommendation Song List"
   ]
  },
  {
   "cell_type": "code",
   "execution_count": 63,
   "metadata": {
    "execution": {
     "iopub.execute_input": "2024-11-21T12:28:50.339013Z",
     "iopub.status.busy": "2024-11-21T12:28:50.338638Z",
     "iopub.status.idle": "2024-11-21T12:28:50.360216Z",
     "shell.execute_reply": "2024-11-21T12:28:50.359132Z",
     "shell.execute_reply.started": "2024-11-21T12:28:50.338982Z"
    },
    "trusted": true
   },
   "outputs": [
    {
     "name": "stdout",
     "output_type": "stream",
     "text": [
      "Hybrid recommended songs for 'Blinding Lights':\n",
      "                      Track Name                                                     Artists             Album Name Release Date  Popularity\n",
      "                  Mr. Brightside                                                 The Killers               Hot Fuss         2004        85.0\n",
      "Can't Hold Us (feat. Ray Dalton) Macklemore, Ryan Lewis, Macklemore & Ryan Lewis, Ray Dalton              The Heist   2012-10-09        76.0\n",
      "                          Demons                                             Imagine Dragons Night Visions (Deluxe)   2012-09-04        19.0\n",
      "       STAY (with Justin Bieber)                                The Kid LAROI, Justin Bieber  F*CK LOVE 3: OVER YOU   2021-07-23        17.0\n",
      "         Wake Me Up - Radio Edit                                                      Avicii                   True   2013-01-01         4.0\n"
     ]
    }
   ],
   "source": [
    "input_song_name = \"Blinding Lights\"\n",
    "recommendations = hybrid_recommendations(input_song_name, num_recommendations=5)\n",
    "print(f\"Hybrid recommended songs for '{input_song_name}':\")\n",
    "print(recommendations.to_string(index=False))"
   ]
  },
  {
   "cell_type": "code",
   "execution_count": 26,
   "metadata": {
    "execution": {
     "iopub.execute_input": "2024-11-19T09:49:14.494300Z",
     "iopub.status.busy": "2024-11-19T09:49:14.493140Z",
     "iopub.status.idle": "2024-11-19T09:49:14.522065Z",
     "shell.execute_reply": "2024-11-19T09:49:14.520958Z",
     "shell.execute_reply.started": "2024-11-19T09:49:14.494259Z"
    },
    "trusted": true
   },
   "outputs": [],
   "source": [
    "# Save your model in Keras (TensorFlow)\n",
    "model.save('my_model.h5')  # Saves the model in .h5 format\n"
   ]
  },
  {
   "cell_type": "code",
   "execution_count": 86,
   "metadata": {},
   "outputs": [
    {
     "name": "stdout",
     "output_type": "stream",
     "text": [
      "Scaler has been pickled and saved as 'scaler.pkl'\n"
     ]
    }
   ],
   "source": [
    "import pickle\n",
    "from sklearn.preprocessing import MinMaxScaler\n",
    "\n",
    "# Define the audio features\n",
    "audio_features = ['Danceability', 'Energy', 'Key', 'Loudness', 'Mode', \n",
    "                  'Speechiness', 'Acousticness', 'Instrumentalness', \n",
    "                  'Liveness', 'Valence', 'Tempo']\n",
    "\n",
    "# Filter the dataset to keep only the required columns\n",
    "music_features = music_df[audio_features].values\n",
    "\n",
    "# Normalize the features using MinMaxScaler\n",
    "scaler = MinMaxScaler()\n",
    "music_features_scaled = scaler.fit_transform(music_features)\n",
    "\n",
    "# Save the fitted scaler to a file\n",
    "with open('scaler.pkl', 'wb') as f:\n",
    "    pickle.dump(scaler, f)\n",
    "\n",
    "print(\"Scaler has been pickled and saved as 'scaler.pkl'\")\n"
   ]
  },
  {
   "cell_type": "markdown",
   "metadata": {},
   "source": [
    "Transformer Based Model\n"
   ]
  },
  {
   "cell_type": "code",
   "execution_count": 1,
   "metadata": {
    "execution": {
     "iopub.execute_input": "2024-11-21T12:47:59.883934Z",
     "iopub.status.busy": "2024-11-21T12:47:59.883554Z",
     "iopub.status.idle": "2024-11-21T12:47:59.985471Z",
     "shell.execute_reply": "2024-11-21T12:47:59.984098Z",
     "shell.execute_reply.started": "2024-11-21T12:47:59.883909Z"
    },
    "trusted": true
   },
   "outputs": [
    {
     "name": "stdout",
     "output_type": "stream",
     "text": [
      "Model: \"model\"\n",
      "_________________________________________________________________\n",
      " Layer (type)                Output Shape              Param #   \n",
      "=================================================================\n",
      " input_1 (InputLayer)        [(None, 5, 11)]           0         \n",
      "                                                                 \n",
      " conv1d (Conv1D)             (None, 5, 64)             2176      \n",
      "                                                                 \n",
      " max_pooling1d (MaxPooling1  (None, 2, 64)             0         \n",
      " D)                                                              \n",
      "                                                                 \n",
      " conv1d_1 (Conv1D)           (None, 2, 128)            24704     \n",
      "                                                                 \n",
      " max_pooling1d_1 (MaxPoolin  (None, 1, 128)            0         \n",
      " g1D)                                                            \n",
      "                                                                 \n",
      " lstm (LSTM)                 (None, 64)                49408     \n",
      "                                                                 \n",
      " dropout (Dropout)           (None, 64)                0         \n",
      "                                                                 \n",
      " dense (Dense)               (None, 64)                4160      \n",
      "                                                                 \n",
      " dropout_1 (Dropout)         (None, 64)                0         \n",
      "                                                                 \n",
      " dense_1 (Dense)             (None, 11)                715       \n",
      "                                                                 \n",
      "=================================================================\n",
      "Total params: 81163 (317.04 KB)\n",
      "Trainable params: 81163 (317.04 KB)\n",
      "Non-trainable params: 0 (0.00 Byte)\n",
      "_________________________________________________________________\n"
     ]
    }
   ],
   "source": [
    "import tensorflow as tf\n",
    "from tensorflow.keras.layers import Input, Conv1D, MaxPooling1D, LSTM, Dense, Dropout, Flatten\n",
    "from tensorflow.keras.models import Model\n",
    "\n",
    "# Model Architecture: CNN + LSTM hybrid\n",
    "def build_model(sequence_length, num_features):\n",
    "    inputs = Input(shape=(sequence_length, num_features))\n",
    "    \n",
    "    # 1D Convolutional Layer for feature extraction\n",
    "    x = Conv1D(64, 3, activation='relu', padding='same')(inputs)\n",
    "    x = MaxPooling1D(2)(x)\n",
    "    x = Conv1D(128, 3, activation='relu', padding='same')(x)\n",
    "    x = MaxPooling1D(2)(x)\n",
    "    \n",
    "    # LSTM Layer to capture temporal dependencies\n",
    "    x = LSTM(64, return_sequences=False)(x)\n",
    "    \n",
    "    # Dense Layers for regression\n",
    "    x = Dropout(0.3)(x)\n",
    "    x = Dense(64, activation='relu')(x)\n",
    "    x = Dropout(0.3)(x)\n",
    "    outputs = Dense(num_features, activation='linear')(x)  # Predict next song's features\n",
    "    \n",
    "    model = Model(inputs, outputs)\n",
    "    model.compile(optimizer='adam', loss='mse', metrics=['mae'])\n",
    "    \n",
    "    return model\n",
    "\n",
    "# Model parameters\n",
    "sequence_length = 5  # Sequence length of the song features\n",
    "num_features = 11    # Number of audio features\n",
    "\n",
    "# Build and compile the model\n",
    "model = build_model(sequence_length, num_features)\n",
    "\n",
    "# Model summary\n",
    "model.summary()\n"
   ]
  },
  {
   "cell_type": "code",
   "execution_count": 3,
   "metadata": {},
   "outputs": [
    {
     "name": "stdout",
     "output_type": "stream",
     "text": [
      "Collecting pydotNote: you may need to restart the kernel to use updated packages.\n",
      "\n",
      "  Downloading pydot-3.0.3-py3-none-any.whl.metadata (10 kB)\n",
      "Requirement already satisfied: pyparsing>=3.0.9 in c:\\users\\tiuyy\\appdata\\local\\programs\\python\\python38\\lib\\site-packages (from pydot) (3.1.4)\n",
      "Downloading pydot-3.0.3-py3-none-any.whl (35 kB)\n",
      "Installing collected packages: pydot\n",
      "Successfully installed pydot-3.0.3\n"
     ]
    }
   ],
   "source": [
    "pip install pydot"
   ]
  },
  {
   "cell_type": "code",
   "execution_count": 2,
   "metadata": {},
   "outputs": [
    {
     "data": {
      "image/png": "[encoded data removed]",
      "text/plain": [
       "<IPython.core.display.Image object>"
      ]
     },
     "execution_count": 2,
     "metadata": {},
     "output_type": "execute_result"
    }
   ],
   "source": [
    "from tensorflow.keras.utils import plot_model\n",
    "import os\n",
    "\n",
    "# Ensure the directory exists for saving the plot\n",
    "output_dir = \"model_plots\"\n",
    "os.makedirs(output_dir, exist_ok=True)\n",
    "\n",
    "# Path to save the model plot\n",
    "plot_path = os.path.join(output_dir, \"model_architecture.png\")\n",
    "\n",
    "# Generate and save the plot\n",
    "plot_model(model, to_file=plot_path, show_shapes=True, show_layer_names=True, dpi=96)\n",
    "\n",
    "# Display the saved plot (optional, if running in an environment like Jupyter Notebook)\n",
    "from IPython.display import Image\n",
    "Image(filename=plot_path)\n"
   ]
  },
  {
   "cell_type": "code",
   "execution_count": 80,
   "metadata": {
    "execution": {
     "iopub.execute_input": "2024-11-21T12:55:54.502044Z",
     "iopub.status.busy": "2024-11-21T12:55:54.501664Z",
     "iopub.status.idle": "2024-11-21T12:56:12.589456Z",
     "shell.execute_reply": "2024-11-21T12:56:12.587959Z",
     "shell.execute_reply.started": "2024-11-21T12:55:54.502014Z"
    },
    "trusted": true
   },
   "outputs": [
    {
     "name": "stdout",
     "output_type": "stream",
     "text": [
      "Epoch 1/30\n",
      "3/3 [==============================] - 3s 266ms/step - loss: 0.2791 - mae: 0.4120 - val_loss: 0.2393 - val_mae: 0.3862\n",
      "Epoch 2/30\n",
      "3/3 [==============================] - 0s 18ms/step - loss: 0.2361 - mae: 0.3782 - val_loss: 0.1959 - val_mae: 0.3538\n",
      "Epoch 3/30\n",
      "3/3 [==============================] - 0s 26ms/step - loss: 0.1947 - mae: 0.3518 - val_loss: 0.1532 - val_mae: 0.3170\n",
      "Epoch 4/30\n",
      "3/3 [==============================] - 0s 26ms/step - loss: 0.1606 - mae: 0.3237 - val_loss: 0.1254 - val_mae: 0.2855\n",
      "Epoch 5/30\n",
      "3/3 [==============================] - 0s 28ms/step - loss: 0.1456 - mae: 0.3073 - val_loss: 0.1084 - val_mae: 0.2628\n",
      "Epoch 6/30\n",
      "3/3 [==============================] - 0s 30ms/step - loss: 0.1389 - mae: 0.2943 - val_loss: 0.0954 - val_mae: 0.2427\n",
      "Epoch 7/30\n",
      "3/3 [==============================] - 0s 24ms/step - loss: 0.1212 - mae: 0.2721 - val_loss: 0.0897 - val_mae: 0.2294\n",
      "Epoch 8/30\n",
      "3/3 [==============================] - 0s 25ms/step - loss: 0.1176 - mae: 0.2699 - val_loss: 0.0908 - val_mae: 0.2296\n",
      "Epoch 9/30\n",
      "3/3 [==============================] - 0s 24ms/step - loss: 0.1027 - mae: 0.2515 - val_loss: 0.0888 - val_mae: 0.2254\n",
      "Epoch 10/30\n",
      "3/3 [==============================] - 0s 27ms/step - loss: 0.1091 - mae: 0.2562 - val_loss: 0.0834 - val_mae: 0.2166\n",
      "Epoch 11/30\n",
      "3/3 [==============================] - 0s 32ms/step - loss: 0.0999 - mae: 0.2474 - val_loss: 0.0789 - val_mae: 0.2083\n",
      "Epoch 12/30\n",
      "3/3 [==============================] - 0s 19ms/step - loss: 0.1080 - mae: 0.2567 - val_loss: 0.0775 - val_mae: 0.2080\n",
      "Epoch 13/30\n",
      "3/3 [==============================] - 0s 32ms/step - loss: 0.1072 - mae: 0.2547 - val_loss: 0.0778 - val_mae: 0.2116\n",
      "Epoch 14/30\n",
      "3/3 [==============================] - 0s 29ms/step - loss: 0.0979 - mae: 0.2458 - val_loss: 0.0796 - val_mae: 0.2161\n",
      "Epoch 15/30\n",
      "3/3 [==============================] - 0s 24ms/step - loss: 0.0937 - mae: 0.2393 - val_loss: 0.0813 - val_mae: 0.2192\n",
      "Epoch 16/30\n",
      "3/3 [==============================] - 0s 27ms/step - loss: 0.1055 - mae: 0.2560 - val_loss: 0.0799 - val_mae: 0.2170\n",
      "Epoch 17/30\n",
      "3/3 [==============================] - 0s 32ms/step - loss: 0.0941 - mae: 0.2379 - val_loss: 0.0783 - val_mae: 0.2140\n",
      "Epoch 18/30\n",
      "3/3 [==============================] - 0s 23ms/step - loss: 0.0908 - mae: 0.2362 - val_loss: 0.0773 - val_mae: 0.2112\n",
      "Epoch 19/30\n",
      "3/3 [==============================] - 0s 103ms/step - loss: 0.0902 - mae: 0.2366 - val_loss: 0.0768 - val_mae: 0.2093\n",
      "Epoch 20/30\n",
      "3/3 [==============================] - 0s 23ms/step - loss: 0.0905 - mae: 0.2342 - val_loss: 0.0772 - val_mae: 0.2099\n",
      "Epoch 21/30\n",
      "3/3 [==============================] - 0s 20ms/step - loss: 0.0931 - mae: 0.2369 - val_loss: 0.0780 - val_mae: 0.2121\n",
      "Epoch 22/30\n",
      "3/3 [==============================] - 0s 25ms/step - loss: 0.0864 - mae: 0.2288 - val_loss: 0.0777 - val_mae: 0.2119\n",
      "Epoch 23/30\n",
      "3/3 [==============================] - 0s 33ms/step - loss: 0.0919 - mae: 0.2368 - val_loss: 0.0760 - val_mae: 0.2084\n",
      "Epoch 24/30\n",
      "3/3 [==============================] - 0s 35ms/step - loss: 0.0921 - mae: 0.2349 - val_loss: 0.0753 - val_mae: 0.2066\n",
      "Epoch 25/30\n",
      "3/3 [==============================] - 0s 35ms/step - loss: 0.0872 - mae: 0.2274 - val_loss: 0.0764 - val_mae: 0.2091\n",
      "Epoch 26/30\n",
      "3/3 [==============================] - 0s 23ms/step - loss: 0.0857 - mae: 0.2262 - val_loss: 0.0795 - val_mae: 0.2144\n",
      "Epoch 27/30\n",
      "3/3 [==============================] - 0s 25ms/step - loss: 0.0872 - mae: 0.2288 - val_loss: 0.0779 - val_mae: 0.2121\n",
      "Epoch 28/30\n",
      "3/3 [==============================] - 0s 23ms/step - loss: 0.0842 - mae: 0.2252 - val_loss: 0.0766 - val_mae: 0.2097\n",
      "Epoch 29/30\n",
      "3/3 [==============================] - 0s 46ms/step - loss: 0.0836 - mae: 0.2273 - val_loss: 0.0767 - val_mae: 0.2095\n",
      "Epoch 30/30\n",
      "3/3 [==============================] - 0s 23ms/step - loss: 0.0824 - mae: 0.2194 - val_loss: 0.0776 - val_mae: 0.2108\n",
      "1/1 [==============================] - 0s 33ms/step - loss: 0.0776 - mae: 0.2108\n",
      "Test Loss: 0.07756417989730835, Test MAE: 0.21075640618801117\n"
     ]
    }
   ],
   "source": [
    "# # Split the data into training and testing sets (if not already done)\n",
    "# from sklearn.model_selection import train_test_split\n",
    "\n",
    "# # Assuming `X` and `y` are already prepared\n",
    "# X_train, X_test, y_train, y_test = train_test_split(X, y, test_size=0.2, random_state=42)\n",
    "\n",
    "# Train the model\n",
    "history = model.fit(\n",
    "    X_train, \n",
    "    y_train, \n",
    "    validation_data=(X_test, y_test), \n",
    "    epochs=30,  # Adjust based on convergence\n",
    "    batch_size=32,  # Adjust based on available resources\n",
    "    verbose=1\n",
    ")\n",
    "\n",
    "\n",
    "\n",
    "# Evaluate the model\n",
    "loss, mae = model.evaluate(X_test, y_test, verbose=1)\n",
    "print(f\"Test Loss: {loss}, Test MAE: {mae}\")\n"
   ]
  },
  {
   "cell_type": "code",
   "execution_count": 81,
   "metadata": {
    "execution": {
     "iopub.execute_input": "2024-11-21T12:56:23.890446Z",
     "iopub.status.busy": "2024-11-21T12:56:23.890037Z",
     "iopub.status.idle": "2024-11-21T12:56:24.144094Z",
     "shell.execute_reply": "2024-11-21T12:56:24.142905Z",
     "shell.execute_reply.started": "2024-11-21T12:56:23.890418Z"
    },
    "trusted": true
   },
   "outputs": [
    {
     "data": {
      "image/png": "[encoded data removed]",
      "text/plain": [
       "<Figure size 1000x600 with 1 Axes>"
      ]
     },
     "metadata": {},
     "output_type": "display_data"
    }
   ],
   "source": [
    "import matplotlib.pyplot as plt\n",
    "\n",
    "# Plot training history\n",
    "plt.figure(figsize=(10, 6))\n",
    "plt.plot(history.history['loss'], label='Training Loss')\n",
    "plt.plot(history.history['val_loss'], label='Validation Loss')\n",
    "plt.title('Training and Validation Loss')\n",
    "plt.xlabel('Epochs')\n",
    "plt.ylabel('Loss')\n",
    "plt.legend()\n",
    "plt.show()\n"
   ]
  },
  {
   "cell_type": "code",
   "execution_count": 82,
   "metadata": {
    "execution": {
     "iopub.execute_input": "2024-11-21T12:50:11.026989Z",
     "iopub.status.busy": "2024-11-21T12:50:11.025970Z",
     "iopub.status.idle": "2024-11-21T12:50:11.114943Z",
     "shell.execute_reply": "2024-11-21T12:50:11.113860Z",
     "shell.execute_reply.started": "2024-11-21T12:50:11.026954Z"
    },
    "trusted": true
   },
   "outputs": [
    {
     "name": "stdout",
     "output_type": "stream",
     "text": [
      "1/1 [==============================] - 1s 627ms/step\n",
      "Predicted Features: [[0.4560795  0.4382213  0.4769516  0.7176318  0.5375311  0.1137436\n",
      "  0.21899244 0.047356   0.18884659 0.39860848 0.32993186]]\n",
      "Actual Features: [0.40619621 0.62770563 0.81818182 0.87959077 1.         0.31533269\n",
      " 0.34605715 0.         0.10035784 0.69120879 0.75095948]\n"
     ]
    }
   ],
   "source": [
    "# Predict the next song's features using the trained model\n",
    "sample_sequence = X_test[0].reshape(1, sequence_length, num_features)  # Reshape to match input shape\n",
    "predicted_features = model.predict(sample_sequence)\n",
    "\n",
    "print(\"Predicted Features:\", predicted_features)\n",
    "print(\"Actual Features:\", y_test[0])\n"
   ]
  },
  {
   "cell_type": "code",
   "execution_count": 84,
   "metadata": {
    "execution": {
     "iopub.execute_input": "2024-11-21T12:48:48.699616Z",
     "iopub.status.busy": "2024-11-21T12:48:48.699241Z",
     "iopub.status.idle": "2024-11-21T12:48:50.291196Z",
     "shell.execute_reply": "2024-11-21T12:48:50.290137Z",
     "shell.execute_reply.started": "2024-11-21T12:48:48.699586Z"
    },
    "trusted": true
   },
   "outputs": [
    {
     "name": "stdout",
     "output_type": "stream",
     "text": [
      "1/1 [==============================] - 0s 28ms/step\n",
      "1/1 [==============================] - 0s 32ms/step\n",
      "1/1 [==============================] - 0s 28ms/step\n",
      "1/1 [==============================] - 0s 33ms/step\n",
      "1/1 [==============================] - 0s 25ms/step\n",
      "1/1 [==============================] - 0s 24ms/step\n",
      "1/1 [==============================] - 0s 29ms/step\n",
      "1/1 [==============================] - 0s 44ms/step\n",
      "1/1 [==============================] - 0s 25ms/step\n",
      "1/1 [==============================] - 0s 26ms/step\n",
      "1/1 [==============================] - 0s 30ms/step\n",
      "1/1 [==============================] - 0s 30ms/step\n",
      "1/1 [==============================] - 0s 41ms/step\n",
      "1/1 [==============================] - 0s 39ms/step\n",
      "1/1 [==============================] - 0s 18ms/step\n",
      "1/1 [==============================] - 0s 20ms/step\n",
      "1/1 [==============================] - 0s 26ms/step\n",
      "1/1 [==============================] - 0s 40ms/step\n",
      "1/1 [==============================] - 0s 24ms/step\n",
      "1/1 [==============================] - 0s 25ms/step\n",
      "Recommended songs after 'Blinding Lights':\n",
      "Photograph - https://open.spotify.com/track/1HNkqx9Ahdgi1Ixy2xkKkL\n",
      "lovely (with Khalid) - https://open.spotify.com/track/0u2P5u6lvoDfwTYjAADbn4\n",
      "Bohemian Rhapsody - Remastered 2011 - https://open.spotify.com/track/4u7EnebtmKWzUH433cf5Qv\n",
      "Shape of You - https://open.spotify.com/track/7qiZfU4dY1lWllzX7mPBI3\n",
      "Someone You Loved - https://open.spotify.com/track/7qEHsqek33rTcFNT9PFqLf\n"
     ]
    }
   ],
   "source": [
    "from sklearn.preprocessing import StandardScaler\n",
    "from sklearn.metrics.pairwise import cosine_similarity\n",
    "import numpy as np\n",
    "\n",
    "# Function to recommend next songs based on input song name\n",
    "def recommend_next_songs(input_song_name, model, music_df, audio_features, scaler, sequence_length=5, num_recommendations=5):\n",
    "    # Ensure the input song exists in the dataset\n",
    "    if input_song_name not in music_df['Track Name'].values:\n",
    "        raise ValueError(f\"'{input_song_name}' not found in the dataset.\")\n",
    "\n",
    "    # Get the input song's features\n",
    "    input_features = get_song_features(input_song_name, music_df, audio_features)\n",
    "    if input_features is None:\n",
    "        raise ValueError(f\"Features for '{input_song_name}' could not be extracted.\")\n",
    "\n",
    "    # Initialize the sequence with the input song's features\n",
    "    input_sequence = [input_features]\n",
    "    \n",
    "    # List to hold the recommended songs and track duplicates\n",
    "    recommended_songs = []\n",
    "    seen_songs = set([input_song_name])  # Start with the current song already in the seen list\n",
    "    \n",
    "    # Iterate to generate the required number of recommendations\n",
    "    iteration_count = 0\n",
    "    while len(recommended_songs) < num_recommendations and iteration_count < 20:  # Limit iterations to avoid infinite loops\n",
    "        iteration_count += 1\n",
    "        \n",
    "        # Ensure the sequence length is within bounds\n",
    "        if len(input_sequence) > sequence_length:\n",
    "            input_sequence = input_sequence[1:]  # Keep only the last 'sequence_length' songs\n",
    "        \n",
    "        # Pad the sequence if it's shorter than the required length\n",
    "        if len(input_sequence) < sequence_length:\n",
    "            padding = [[0] * len(audio_features)] * (sequence_length - len(input_sequence))\n",
    "            input_sequence = padding + input_sequence\n",
    "\n",
    "        # Prepare the input sequence for the model\n",
    "        input_sequence_scaled = scaler.transform(np.array(input_sequence))  # Scale the sequence\n",
    "        input_sequence_scaled = np.array([input_sequence_scaled])  # Add batch dimension\n",
    "\n",
    "        # Predict the next song's features\n",
    "        predicted_features_scaled = model.predict(input_sequence_scaled)\n",
    "\n",
    "        # Inverse transform the predicted features to the original scale\n",
    "        predicted_features = scaler.inverse_transform(predicted_features_scaled)\n",
    "\n",
    "        # Find the closest song in the dataset based on cosine similarity\n",
    "        similarities = cosine_similarity(predicted_features, music_df[audio_features].values)\n",
    "        closest_song_index = np.argmax(similarities)\n",
    "\n",
    "        # Get the recommended song's name and URL\n",
    "        recommended_song_name = music_df['Track Name'].iloc[closest_song_index]\n",
    "        recommended_song_url = music_df['External URLs'].iloc[closest_song_index]\n",
    "\n",
    "        # Avoid recommending the same song again\n",
    "        if recommended_song_name not in seen_songs:\n",
    "            recommended_songs.append((recommended_song_name, recommended_song_url))\n",
    "            seen_songs.add(recommended_song_name)\n",
    "\n",
    "        # Update the sequence with the predicted features\n",
    "        input_sequence.append(predicted_features[0])\n",
    "\n",
    "    # Fallback: If still fewer recommendations, pick the closest songs based on cosine similarity from the entire dataset\n",
    "    if len(recommended_songs) < num_recommendations:\n",
    "        all_songs = music_df['Track Name'].tolist()\n",
    "        remaining_songs = [song for song in all_songs if song not in seen_songs]\n",
    "        for song in remaining_songs[:num_recommendations - len(recommended_songs)]:\n",
    "            song_index = music_df[music_df['Track Name'] == song].index[0]\n",
    "            recommended_song_url = music_df['External URLs'].iloc[song_index]\n",
    "            recommended_songs.append((song, recommended_song_url))\n",
    "    \n",
    "    return recommended_songs\n",
    "\n",
    "# Example usage\n",
    "input_song_name = \"Blinding Lights\"  # Replace with an actual song name from your dataset\n",
    "recommended_songs = recommend_next_songs(input_song_name, model, music_df, audio_features, scaler, sequence_length=5, num_recommendations=5)\n",
    "\n",
    "# Display recommended songs (only title and URL)\n",
    "if recommended_songs:\n",
    "    print(f\"Recommended songs after '{input_song_name}':\")\n",
    "    for song, url in recommended_songs:\n",
    "        print(f\"{song} - {url}\")\n",
    "else:\n",
    "    print(\"No recommendations found.\")\n"
   ]
  },
  {
   "cell_type": "code",
   "execution_count": 85,
   "metadata": {},
   "outputs": [
    {
     "name": "stderr",
     "output_type": "stream",
     "text": [
      "c:\\Users\\tiuyy\\AppData\\Local\\Programs\\Python\\Python38\\lib\\site-packages\\keras\\src\\engine\\training.py:3000: UserWarning: You are saving your model as an HDF5 file via `model.save()`. This file format is considered legacy. We recommend using instead the native Keras format, e.g. `model.save('my_model.keras')`.\n",
      "  saving_api.save_model(\n"
     ]
    }
   ],
   "source": [
    "# Save the model\n",
    "model.save('music_recommendation_model.h5')  # Saves the model in HDF5 format\n",
    "\n"
   ]
  }
 ],
 "metadata": {
  "kaggle": {
   "accelerator": "none",
   "dataSources": [
    {
     "datasetId": 1495083,
     "sourceId": 2469778,
     "sourceType": "datasetVersion"
    },
    {
     "datasetId": 1720572,
     "sourceId": 2814420,
     "sourceType": "datasetVersion"
    },
    {
     "datasetId": 1800580,
     "sourceId": 2936818,
     "sourceType": "datasetVersion"
    },
    {
     "datasetId": 2570056,
     "sourceId": 4372070,
     "sourceType": "datasetVersion"
    },
    {
     "datasetId": 3668746,
     "sourceId": 6367938,
     "sourceType": "datasetVersion"
    },
    {
     "datasetId": 4543007,
     "sourceId": 7772190,
     "sourceType": "datasetVersion"
    },
    {
     "sourceId": 114965559,
     "sourceType": "kernelVersion"
    }
   ],
   "dockerImageVersionId": 30684,
   "isGpuEnabled": false,
   "isInternetEnabled": true,
   "language": "python",
   "sourceType": "notebook"
  },
  "kernelspec": {
   "display_name": "Python 3",
   "language": "python",
   "name": "python3"
  },
  "language_info": {
   "codemirror_mode": {
    "name": "ipython",
    "version": 3
   },
   "file_extension": ".py",
   "mimetype": "text/x-python",
   "name": "python",
   "nbconvert_exporter": "python",
   "pygments_lexer": "ipython3",
   "version": "3.8.10"
  }
 },
 "nbformat": 4,
 "nbformat_minor": 4
}
